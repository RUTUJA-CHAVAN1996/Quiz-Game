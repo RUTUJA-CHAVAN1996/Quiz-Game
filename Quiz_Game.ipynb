{
  "nbformat": 4,
  "nbformat_minor": 0,
  "metadata": {
    "colab": {
      "provenance": []
    },
    "kernelspec": {
      "name": "python3",
      "display_name": "Python 3"
    },
    "language_info": {
      "name": "python"
    }
  },
  "cells": [
    {
      "cell_type": "markdown",
      "source": [
        "Quiz Game\n"
      ],
      "metadata": {
        "id": "F7xPqjLSu__e"
      }
    },
    {
      "cell_type": "code",
      "source": [
        "import random\n",
        "\n",
        "# Quiz questions and answers\n",
        "questions = {\n",
        "    \"What is the capital of France?\": \"Paris\",\n",
        "    \"What is the largest continent?\": \"Asia\",\n",
        "    \"What is the deepest ocean?\": \"Pacific\",\n",
        "    \"What is the longest river in the world?\": \"Nile\",\n",
        "    \"Which country is known as the Land of the Rising Sun?\": \"Japan\"\n",
        "}\n",
        "\n",
        "def display_welcome_message():\n",
        "    print(\"Welcome to the Geography Quiz!\")\n",
        "    print(\"You will be asked multiple-choice questions about geography.\")\n",
        "    print(\"For each question, type your answer and press Enter.\")\n",
        "    print(\"Let's begin!\\n\")\n",
        "\n",
        "def present_quiz_questions():\n",
        "    score = 0\n",
        "    total_questions = len(questions)\n",
        "\n",
        "    for question, answer in questions.items():\n",
        "        print(question)\n",
        "        user_answer = input(\"Your answer: \").strip().title()  # Convert to title case for consistency\n",
        "\n",
        "        if user_answer == answer:\n",
        "            print(\"Correct!\")\n",
        "            score += 1\n",
        "        else:\n",
        "            print(\"Incorrect. The correct answer is:\", answer)\n",
        "\n",
        "        print()  # Add a newline for readability\n",
        "\n",
        "    return score, total_questions\n",
        "\n",
        "def display_final_results(score, total_questions):\n",
        "    print(\"Quiz Complete!\")\n",
        "    print(\"You answered\", score, \"out of\", total_questions, \"questions correctly.\")\n",
        "    percentage = (score / total_questions) * 100\n",
        "    print(\"Your final score is:\", percentage, \"%\")\n",
        "    if percentage >= 70:\n",
        "        print(\"Congratulations! You passed the quiz.\")\n",
        "    else:\n",
        "        print(\"Sorry, you didn't pass the quiz. Better luck next time!\")\n",
        "\n",
        "def play_again():\n",
        "    while True:\n",
        "        response = input(\"Do you want to play again? (yes/no): \").strip().lower()\n",
        "        if response == \"yes\":\n",
        "            return True\n",
        "        elif response == \"no\":\n",
        "            return False\n",
        "        else:\n",
        "            print(\"Invalid input. Please enter 'yes' or 'no'.\")\n",
        "\n",
        "def main():\n",
        "    display_welcome_message()\n",
        "    while True:\n",
        "        score, total_questions = present_quiz_questions()\n",
        "        display_final_results(score, total_questions)\n",
        "        if not play_again():\n",
        "            break\n",
        "\n",
        "if __name__ == \"__main__\":\n",
        "    main()\n"
      ],
      "metadata": {
        "colab": {
          "base_uri": "https://localhost:8080/"
        },
        "id": "w9a5IheQqeOX",
        "outputId": "f50f2c31-973b-47ae-b6f6-d35952514cbb"
      },
      "execution_count": 9,
      "outputs": [
        {
          "name": "stdout",
          "output_type": "stream",
          "text": [
            "Welcome to the Geography Quiz!\n",
            "You will be asked multiple-choice questions about geography.\n",
            "For each question, type your answer and press Enter.\n",
            "Let's begin!\n",
            "\n",
            "What is the capital of France?\n",
            "Your answer: Paris\n",
            "Correct!\n",
            "\n",
            "What is the largest continent?\n",
            "Your answer: Asia\n",
            "Correct!\n",
            "\n",
            "What is the deepest ocean?\n",
            "Your answer: pasific\n",
            "Incorrect. The correct answer is: Pacific\n",
            "\n",
            "What is the longest river in the world?\n",
            "Your answer: Nile\n",
            "Correct!\n",
            "\n",
            "Which country is known as the Land of the Rising Sun?\n",
            "Your answer: japan\n",
            "Correct!\n",
            "\n",
            "Quiz Complete!\n",
            "You answered 4 out of 5 questions correctly.\n",
            "Your final score is: 80.0 %\n",
            "Congratulations! You passed the quiz.\n",
            "Do you want to play again? (yes/no): yes\n",
            "What is the capital of France?\n",
            "Your answer: Paris\n",
            "Correct!\n",
            "\n",
            "What is the largest continent?\n",
            "Your answer: asia\n",
            "Correct!\n",
            "\n",
            "What is the deepest ocean?\n",
            "Your answer: Nile\n",
            "Incorrect. The correct answer is: Pacific\n",
            "\n",
            "What is the longest river in the world?\n",
            "Your answer: Nile\n",
            "Correct!\n",
            "\n",
            "Which country is known as the Land of the Rising Sun?\n",
            "Your answer: japan\n",
            "Correct!\n",
            "\n",
            "Quiz Complete!\n",
            "You answered 4 out of 5 questions correctly.\n",
            "Your final score is: 80.0 %\n",
            "Congratulations! You passed the quiz.\n",
            "Do you want to play again? (yes/no): No\n"
          ]
        }
      ]
    }
  ]
}